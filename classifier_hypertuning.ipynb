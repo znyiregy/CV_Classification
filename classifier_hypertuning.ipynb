{
 "cells": [
  {
   "cell_type": "code",
   "execution_count": 16,
   "metadata": {},
   "outputs": [],
   "source": [
    "import numpy as np\n",
    "import pandas as pd\n",
    "import warnings\n",
    "import matplotlib.pyplot as plt\n",
    "import matplotlib\n",
    "warnings.filterwarnings('ignore')\n",
    "np.set_printoptions(precision=3)\n",
    "pd.options.display.float_format = '{:,.3f}'.format\n",
    "from sklearn.naive_bayes import MultinomialNB\n",
    "from sklearn.linear_model import SGDClassifier # binary?\n",
    "from sklearn.multiclass import OneVsOneClassifier  # multiclass\n",
    "from sklearn.neighbors import KNeighborsClassifier\n",
    "from sklearn.svm import SVC   # for titanic 73%,  RandomF 80%\n",
    "from sklearn.svm import LinearSVC  #better for sparse input (NLP TfidfVectorizer)\n",
    "from sklearn.neighbors import KNeighborsClassifier\n",
    "from sklearn.ensemble import RandomForestClassifier\n",
    "from sklearn.linear_model import LogisticRegression\n",
    "import time\n",
    "from sklearn.model_selection import GridSearchCV\n",
    "import tensorflow as tf\n"
   ]
  },
  {
   "cell_type": "code",
   "execution_count": 9,
   "metadata": {},
   "outputs": [],
   "source": [
    "from tensorflow.keras.models import Sequential\n",
    "from tensorflow.keras.layers import Dense, Dropout, BatchNormalization, Conv2D, MaxPooling2D, Flatten, Dropout, LSTM, CuDNNLSTM\n",
    "from tensorflow.keras.layers import Activation\n",
    "from tensorflow.keras.utils import to_categorical\n",
    "from tensorflow.keras.wrappers.scikit_learn import KerasClassifier"
   ]
  },
  {
   "cell_type": "code",
   "execution_count": 3,
   "metadata": {},
   "outputs": [],
   "source": [
    "from tensorflow.keras.datasets import mnist\n",
    "(X_train, y_train), (X_test, y_test) = mnist.load_data()\n",
    "X_train = np.array([x.flatten()/255.0 for x in X_train]) #normalized!\n",
    "X_test = np.array([x.flatten()/255.0 for x in X_test]) "
   ]
  },
  {
   "cell_type": "code",
   "execution_count": 4,
   "metadata": {},
   "outputs": [
    {
     "data": {
      "text/plain": [
       "(10000, 784)"
      ]
     },
     "execution_count": 4,
     "metadata": {},
     "output_type": "execute_result"
    }
   ],
   "source": [
    "X_test.shape"
   ]
  },
  {
   "cell_type": "code",
   "execution_count": null,
   "metadata": {},
   "outputs": [],
   "source": [
    "#from sklearn import datasets\n",
    "#iris=datasets.load_iris()\n",
    "#X_train=iris.data \n",
    "#y_train=iris.target"
   ]
  },
  {
   "cell_type": "code",
   "execution_count": 10,
   "metadata": {},
   "outputs": [],
   "source": [
    "def create_NN(neurons=1):\n",
    "    model = Sequential()\n",
    "    model.add(Dense(neurons, activation=\"relu\", input_shape=(784,)))\n",
    "    model.add(Dense(10, activation=\"softmax\"))\n",
    "    model.compile(optimizer=\"adam\", loss=\"sparse_categorical_crossentropy\", metrics=[\"accuracy\"])\n",
    "    return model\n",
    "\n",
    "NN = KerasClassifier(build_fn=create_NN, verbose=0)"
   ]
  },
  {
   "cell_type": "code",
   "execution_count": 13,
   "metadata": {},
   "outputs": [],
   "source": [
    "model_params={\n",
    "    'logistic':{\n",
    "        'model':LogisticRegression(),\n",
    "        'params':{\n",
    "        'solver':['lbfgs','liblinear'],\n",
    "        'multi_class':['ovr']\n",
    "        }    \n",
    "    },    \n",
    "    'svm':{\n",
    "        'model':SVC(gamma='auto'),\n",
    "        'params':{\n",
    "            'C':[10,50],\n",
    "            'kernel':['rbf']\n",
    "        }\n",
    "    },\n",
    "    'RF':{\n",
    "        'model':RandomForestClassifier(),\n",
    "        'params':{\n",
    "        'n_estimators':[50,100]\n",
    "        }    \n",
    "    },\n",
    "    'kNN':{\n",
    "        'model':KNeighborsClassifier(),\n",
    "        'params':{\n",
    "        'n_neighbors':[3,5]\n",
    "        }\n",
    "    },\n",
    "    'Bayes':{\n",
    "        'model':MultinomialNB(),\n",
    "        'params':{\n",
    "        'alpha':[1]\n",
    "        }\n",
    "    },\n",
    "    'NN':{\n",
    "        'model':NN,\n",
    "        'params':{\n",
    "            'epochs':[20],\n",
    "            'batch_size':[64],\n",
    "            'neurons':[10,20]\n",
    "        }\n",
    "    }\n",
    "}"
   ]
  },
  {
   "cell_type": "code",
   "execution_count": 14,
   "metadata": {},
   "outputs": [
    {
     "name": "stdout",
     "output_type": "stream",
     "text": [
      "WARNING:tensorflow:From C:\\Users\\nyiri\\Anaconda3\\envs\\gpu\\lib\\site-packages\\tensorflow\\python\\ops\\init_ops.py:1251: calling VarianceScaling.__init__ (from tensorflow.python.ops.init_ops) with dtype is deprecated and will be removed in a future version.\n",
      "Instructions for updating:\n",
      "Call initializer instance with the dtype argument instead of passing it to the constructor\n"
     ]
    }
   ],
   "source": [
    "result=[]\n",
    "\n",
    "for name, mp in model_params.items():\n",
    "    t0=time.time()\n",
    "    clf=GridSearchCV(mp['model'],mp['params'],cv=4,return_train_score=False, n_jobs=1)\n",
    "    clf.fit(X_test,y_test)   #  smaller test set!!!\n",
    "    t1=time.time()\n",
    "    result.append({\n",
    "        'model':name,\n",
    "        'best_score':clf.best_score_,\n",
    "        'best_params':clf.best_params_,\n",
    "        'time':t1-t0\n",
    "    })\n",
    "\n"
   ]
  },
  {
   "cell_type": "code",
   "execution_count": 17,
   "metadata": {},
   "outputs": [
    {
     "data": {
      "text/html": [
       "<div>\n",
       "<style scoped>\n",
       "    .dataframe tbody tr th:only-of-type {\n",
       "        vertical-align: middle;\n",
       "    }\n",
       "\n",
       "    .dataframe tbody tr th {\n",
       "        vertical-align: top;\n",
       "    }\n",
       "\n",
       "    .dataframe thead th {\n",
       "        text-align: right;\n",
       "    }\n",
       "</style>\n",
       "<table border=\"1\" class=\"dataframe\">\n",
       "  <thead>\n",
       "    <tr style=\"text-align: right;\">\n",
       "      <th></th>\n",
       "      <th>model</th>\n",
       "      <th>best_score</th>\n",
       "      <th>best_params</th>\n",
       "      <th>time</th>\n",
       "    </tr>\n",
       "  </thead>\n",
       "  <tbody>\n",
       "    <tr>\n",
       "      <td>0</td>\n",
       "      <td>logistic</td>\n",
       "      <td>0.899</td>\n",
       "      <td>{'multi_class': 'ovr', 'solver': 'liblinear'}</td>\n",
       "      <td>61.847</td>\n",
       "    </tr>\n",
       "    <tr>\n",
       "      <td>1</td>\n",
       "      <td>svm</td>\n",
       "      <td>0.941</td>\n",
       "      <td>{'C': 50, 'kernel': 'rbf'}</td>\n",
       "      <td>143.180</td>\n",
       "    </tr>\n",
       "    <tr>\n",
       "      <td>2</td>\n",
       "      <td>RF</td>\n",
       "      <td>0.943</td>\n",
       "      <td>{'n_estimators': 100}</td>\n",
       "      <td>23.677</td>\n",
       "    </tr>\n",
       "    <tr>\n",
       "      <td>3</td>\n",
       "      <td>kNN</td>\n",
       "      <td>0.942</td>\n",
       "      <td>{'n_neighbors': 5}</td>\n",
       "      <td>186.270</td>\n",
       "    </tr>\n",
       "    <tr>\n",
       "      <td>4</td>\n",
       "      <td>Bayes</td>\n",
       "      <td>0.821</td>\n",
       "      <td>{'alpha': 1}</td>\n",
       "      <td>0.344</td>\n",
       "    </tr>\n",
       "    <tr>\n",
       "      <td>5</td>\n",
       "      <td>NN</td>\n",
       "      <td>0.918</td>\n",
       "      <td>{'batch_size': 64, 'epochs': 20, 'neurons': 20}</td>\n",
       "      <td>57.586</td>\n",
       "    </tr>\n",
       "  </tbody>\n",
       "</table>\n",
       "</div>"
      ],
      "text/plain": [
       "      model  best_score                                      best_params  \\\n",
       "0  logistic       0.899    {'multi_class': 'ovr', 'solver': 'liblinear'}   \n",
       "1       svm       0.941                       {'C': 50, 'kernel': 'rbf'}   \n",
       "2        RF       0.943                            {'n_estimators': 100}   \n",
       "3       kNN       0.942                               {'n_neighbors': 5}   \n",
       "4     Bayes       0.821                                     {'alpha': 1}   \n",
       "5        NN       0.918  {'batch_size': 64, 'epochs': 20, 'neurons': 20}   \n",
       "\n",
       "     time  \n",
       "0  61.847  \n",
       "1 143.180  \n",
       "2  23.677  \n",
       "3 186.270  \n",
       "4   0.344  \n",
       "5  57.586  "
      ]
     },
     "execution_count": 17,
     "metadata": {},
     "output_type": "execute_result"
    }
   ],
   "source": [
    "df=pd.DataFrame(result, columns=['model','best_score','best_params','time'])\n",
    "df"
   ]
  },
  {
   "cell_type": "code",
   "execution_count": null,
   "metadata": {},
   "outputs": [],
   "source": []
  }
 ],
 "metadata": {
  "kernelspec": {
   "display_name": "Python 3",
   "language": "python",
   "name": "python3"
  },
  "language_info": {
   "codemirror_mode": {
    "name": "ipython",
    "version": 3
   },
   "file_extension": ".py",
   "mimetype": "text/x-python",
   "name": "python",
   "nbconvert_exporter": "python",
   "pygments_lexer": "ipython3",
   "version": "3.7.4"
  }
 },
 "nbformat": 4,
 "nbformat_minor": 2
}
